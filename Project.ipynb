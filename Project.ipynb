{
 "cells": [
  {
   "cell_type": "code",
   "execution_count": 2,
   "id": "4fc18176",
   "metadata": {},
   "outputs": [],
   "source": [
    "import tkinter as tk\n",
    "from tkinter import *\n",
    "from tkinter import filedialog\n",
    "from PIL import ImageTk, Image\n",
    "import tensorflow as tf\n",
    "from tensorflow.keras.preprocessing.image import array_to_img, img_to_array, load_img\n",
    "from tensorflow.keras import layers, losses\n",
    "from skimage.transform import resize\n",
    "import numpy as np\n",
    "from skimage.color import rgb2lab, lab2rgb, rgb2gray, gray2rgb\n",
    "from skimage.io import imsave"
   ]
  },
  {
   "cell_type": "code",
   "execution_count": 3,
   "id": "f4572d31",
   "metadata": {},
   "outputs": [],
   "source": [
    "# Defining the loss function\n",
    "def ssim_loss(y_true, y_pred):\n",
    "    return 1 - tf.reduce_mean(tf.image.ssim(y_true, y_pred, max_val=1.0))"
   ]
  },
  {
   "cell_type": "code",
   "execution_count": 4,
   "id": "879757fa",
   "metadata": {},
   "outputs": [
    {
     "name": "stderr",
     "output_type": "stream",
     "text": [
      "C:\\Users\\ahmed\\AppData\\Local\\Temp\\ipykernel_10220\\1808055835.py:17: DeprecationWarning: ANTIALIAS is deprecated and will be removed in Pillow 10 (2023-07-01). Use LANCZOS or Resampling.LANCZOS instead.\n",
      "  img = img.resize((256, 256), Image.ANTIALIAS)\n",
      "Lossy conversion from float64 to uint8. Range [0, 1]. Convert image to uint8 prior to saving to suppress this warning.\n"
     ]
    }
   ],
   "source": [
    "root = Tk()\n",
    "frame = tk.Frame(root)\n",
    "\n",
    "# GUI Objects\n",
    "lbl_pic_path = tk.Label(frame, text='Path: ', padx=25, pady=25, font=('verdana', 16)) \n",
    "lbl_show_pic = tk.Label(frame)\n",
    "lbl_show_result = tk.Label(frame)\n",
    "entry_pic_path = tk.Entry(frame, font=('verdana', 16), width=50)\n",
    "btn_browse = tk.Button(frame, text='Select Image', bg='grey', fg='#ffffff', font=('verdana', 16))\n",
    "btn_colorize = tk.Button(frame, text='Colorize', bg='grey', fg='#ffffff', font=('verdana', 16))\n",
    "\n",
    "def selectPic():\n",
    "    global img\n",
    "    global filename\n",
    "    filename = filedialog.askopenfilename(initialdir='/images', title='Select Image', filetypes=(('png images', '*.png'), ('jpg images', '*.jpg')))\n",
    "    img = Image.open(filename)\n",
    "    img = img.resize((256, 256), Image.ANTIALIAS)\n",
    "    img = ImageTk.PhotoImage(img)\n",
    "    lbl_show_pic['image'] = img\n",
    "    entry_pic_path.insert(0, filename)\n",
    "\n",
    "def colorize():\n",
    "    global result_image\n",
    "    # Load model into here     \n",
    "    model = tf.keras.models.load_model('my_model.model', custom_objects={'ssim_loss': ssim_loss})\n",
    "    img_color = []\n",
    "    img = img_to_array(load_img(filename))\n",
    "    img = resize(img, (160, 160))\n",
    "    img_color.append(img)\n",
    "    img_color = np.array(img_color, dtype=float)\n",
    "    img_color = rgb2lab(1.0/255*img_color)[:,:,:,0]\n",
    "    img_color = img_color.reshape(img_color.shape+(1,))\n",
    "    output = model.predict(img_color)\n",
    "    output = output*128\n",
    "    result = np.zeros((160, 160, 3))\n",
    "    result[:,:,0] = img_color[0][:,:,0]\n",
    "    result[:,:,1:] = output[0]\n",
    "    result = lab2rgb(result)\n",
    "    imsave(\"D:/ /Semester 6/AI/Project/out.png\", result)\n",
    "    result = Image.fromarray((result*255).astype(np.uint8))\n",
    "    result = result.resize((256, 256), resample=Image.LANCZOS)\n",
    "    result_image = ImageTk.PhotoImage(result)\n",
    "    lbl_show_result['image'] = result_image\n",
    "    \n",
    "    \n",
    "btn_browse['command'] = selectPic\n",
    "btn_colorize['command'] = colorize\n",
    "\n",
    "frame.pack()\n",
    "\n",
    "lbl_pic_path.grid(row=0, column=0)\n",
    "entry_pic_path.grid(row=0, column=1)\n",
    "btn_browse.grid(row=1, column=0, padx=10, pady=10)\n",
    "btn_colorize.grid(row=1, column=1, padx=10, pady=10)\n",
    "lbl_show_pic.grid(row=2, column=0, padx=(0,20), pady=20)\n",
    "lbl_show_result.grid(row=2, column=1, padx=(0,20))\n",
    "\n",
    "root.mainloop()"
   ]
  },
  {
   "cell_type": "markdown",
   "id": "0ae7ee82",
   "metadata": {},
   "source": [
    "filename = 'D:/ /Semester 6/AI/Alternatives/Project/input.png'\n",
    "def colorize(filename):\n",
    "    # Load model into here     \n",
    "    model = tf.keras.models.load_model('my_model.model', custom_objects={'ssim_loss': ssim_loss})\n",
    "    img_color = []\n",
    "    img = img_to_array(load_img(filename))\n",
    "    img = resize(img, (160, 160))\n",
    "    img_color.append(img)\n",
    "    img_color = np.array(img_color, dtype=float)\n",
    "    img_color = rgb2lab(1.0/255*img_color)[:,:,:,0]\n",
    "    img_color = img_color.reshape(img_color.shape+(1,))\n",
    "    output = model.predict(img_color)\n",
    "    output = output*128\n",
    "    result = np.zeros((160, 160, 3))\n",
    "    result[:,:,0] = img_color[0][:,:,0]\n",
    "    result[:,:,1:] = output[0]\n",
    "    imsave(\"D:/ /Semester 6/AI/Project/out.png\", lab2rgb(result))\n",
    "    \n",
    "colorize(filename)"
   ]
  }
 ],
 "metadata": {
  "kernelspec": {
   "display_name": "Python 3 (ipykernel)",
   "language": "python",
   "name": "python3"
  },
  "language_info": {
   "codemirror_mode": {
    "name": "ipython",
    "version": 3
   },
   "file_extension": ".py",
   "mimetype": "text/x-python",
   "name": "python",
   "nbconvert_exporter": "python",
   "pygments_lexer": "ipython3",
   "version": "3.9.16"
  }
 },
 "nbformat": 4,
 "nbformat_minor": 5
}
