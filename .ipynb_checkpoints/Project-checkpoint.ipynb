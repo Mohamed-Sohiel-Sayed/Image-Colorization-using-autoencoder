{
 "cells": [
  {
   "cell_type": "code",
   "execution_count": 17,
   "id": "f2bfe10a",
   "metadata": {},
   "outputs": [],
   "source": [
    "import tkinter as tk\n",
    "from tkinter import *\n",
    "from tkinter import filedialog\n",
    "from PIL import ImageTk, Image"
   ]
  },
  {
   "cell_type": "code",
   "execution_count": 21,
   "id": "aee09077",
   "metadata": {},
   "outputs": [
    {
     "name": "stderr",
     "output_type": "stream",
     "text": [
      "C:\\Users\\ahmed\\AppData\\Local\\Temp\\ipykernel_24340\\1301558593.py:13: DeprecationWarning: ANTIALIAS is deprecated and will be removed in Pillow 10 (2023-07-01). Use LANCZOS or Resampling.LANCZOS instead.\n",
      "  img = img.resize((256, 256), Image.ANTIALIAS)\n"
     ]
    }
   ],
   "source": [
    "root = Tk()\n",
    "frame = tk.Frame(root)\n",
    "\n",
    "lbl_pic_path = tk.Label(frame, text='Path: ', padx=25, pady=25, font=('verdana', 16)) \n",
    "lbl_show_pic = tk.Label(frame)\n",
    "entry_pic_path = tk.Entry(frame, font=('verdana', 16))\n",
    "btn_browse = tk.Button(frame, text='Select Image', bg='grey', fg='#ffffff', font=('verdana', 16))\n",
    "\n",
    "def selectPic():\n",
    "    global img\n",
    "    filename = filedialog.askopenfilename(initialdir='/images', title='Select Image', filetypes=(('png images', '*.png'), ('jpg images', '*.jpg')))\n",
    "    img = Image.open(filename)\n",
    "    img = img.resize((256, 256), Image.ANTIALIAS)\n",
    "    img = ImageTk.PhotoImage(img)\n",
    "    lbl_show_pic['image'] = img\n",
    "    entry_pic_path.insert(0, filename)\n",
    "    \n",
    "btn_browse['command'] = selectPic\n",
    "\n",
    "frame.pack()\n",
    "\n",
    "lbl_pic_path.grid(row=0, column=0)\n",
    "lbl_show_pic.grid(row=0, column=1, padx=(0,20))\n",
    "entry_pic_path.grid(row=1, column=0, columnspan='2')\n",
    "btn_browse.grid(row=2, column=0, columnspan='2', padx=10, pady=10)\n",
    "\n",
    "root.mainloop()\n"
   ]
  },
  {
   "cell_type": "code",
   "execution_count": null,
   "id": "532ace4d",
   "metadata": {},
   "outputs": [],
   "source": []
  }
 ],
 "metadata": {
  "kernelspec": {
   "display_name": "Python 3 (ipykernel)",
   "language": "python",
   "name": "python3"
  },
  "language_info": {
   "codemirror_mode": {
    "name": "ipython",
    "version": 3
   },
   "file_extension": ".py",
   "mimetype": "text/x-python",
   "name": "python",
   "nbconvert_exporter": "python",
   "pygments_lexer": "ipython3",
   "version": "3.9.16"
  }
 },
 "nbformat": 4,
 "nbformat_minor": 5
}
